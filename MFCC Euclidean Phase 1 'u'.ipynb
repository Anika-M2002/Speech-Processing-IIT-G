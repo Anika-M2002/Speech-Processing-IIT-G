{
 "cells": [
  {
   "cell_type": "code",
   "execution_count": 1,
   "id": "fc91e565",
   "metadata": {},
   "outputs": [],
   "source": [
    "import librosa\n",
    "import librosa.display\n",
    "import matplotlib.pyplot as plt\n",
    "import numpy as np"
   ]
  },
  {
   "cell_type": "code",
   "execution_count": 2,
   "id": "e299a021",
   "metadata": {
    "scrolled": true
   },
   "outputs": [
    {
     "name": "stdout",
     "output_type": "stream",
     "text": [
      "MFCC features for C:\\IIT-G Internship\\ASCII Waves Recording\\234101011_u_10-4.wav:\n",
      "[[-3.7858109e+02 -3.1448361e+02 -2.9271432e+02 -2.9530002e+02\n",
      "  -3.0740341e+02 -3.0825293e+02 -3.1120959e+02 -3.2904172e+02\n",
      "  -3.4268735e+02 -2.8337692e+02]\n",
      " [ 1.6205362e+02  1.5484944e+02  1.4055774e+02  1.3688129e+02\n",
      "   1.3954395e+02  1.4494392e+02  1.5061316e+02  1.5410245e+02\n",
      "   1.5643163e+02  1.2333443e+02]\n",
      " [ 4.3544350e+01  4.8024513e+01  4.5224499e+01  4.0735672e+01\n",
      "   3.3009666e+01  3.1050348e+01  3.1853561e+01  2.9547695e+01\n",
      "   2.7112839e+01  3.0398342e+01]\n",
      " [ 1.6800835e+01  1.7683708e+01  1.2723030e+01  8.4760914e+00\n",
      "   1.1397938e+01  1.5590961e+01  1.2469809e+01  1.1900520e+01\n",
      "   1.1003634e+01  1.9682003e+01]\n",
      " [-7.2328682e+00 -1.4340352e+01 -1.5699909e+01 -1.6773586e+01\n",
      "  -1.3612335e+01 -9.4266748e+00 -7.9935198e+00 -6.3709717e+00\n",
      "  -3.7294080e+00  6.4038277e+00]\n",
      " [-8.1520090e+00 -1.0588312e+01 -5.2021055e+00 -5.7250929e+00\n",
      "  -8.8817825e+00 -1.0962483e+01 -1.1227865e+01 -1.5979319e+01\n",
      "  -1.4199347e+01 -4.7783607e-01]\n",
      " [-2.5435574e+00  4.4776380e-01 -2.7156448e-01 -1.8763576e+00\n",
      "   4.3479797e-01  7.7334237e-01  3.6876616e+00 -5.1784511e+00\n",
      "  -1.4015841e+01 -8.4973297e+00]\n",
      " [-1.8062908e+01 -1.9471325e+01 -2.1668053e+01 -2.1679798e+01\n",
      "  -1.8348808e+01 -1.4088489e+01 -1.1378168e+01 -1.0326197e+01\n",
      "  -1.3973052e+01 -1.0318947e+01]\n",
      " [-5.6269674e+00 -3.9618385e+00 -1.2796469e+00 -1.5720322e+00\n",
      "  -1.6694391e-01 -8.3226490e-01 -4.4264174e+00 -7.3065319e+00\n",
      "  -9.0141039e+00 -6.7043605e+00]\n",
      " [-1.1873879e+01 -1.0412034e+01 -9.4323149e+00 -1.0377415e+01\n",
      "  -4.0052471e+00 -4.9384089e+00 -6.8853436e+00 -6.2080803e+00\n",
      "  -8.5512781e+00 -6.0510044e+00]\n",
      " [-8.7014027e+00 -4.9236984e+00 -5.1230760e+00 -6.7690778e+00\n",
      "  -9.5824108e+00 -8.7650194e+00 -7.5714846e+00 -8.6608324e+00\n",
      "  -1.2188867e+01 -6.8884211e+00]\n",
      " [-1.0483044e+01 -1.1571942e+01 -1.3717555e+01 -1.2928986e+01\n",
      "  -1.8346426e+01 -1.7360872e+01 -1.7739218e+01 -1.8916870e+01\n",
      "  -2.0446266e+01 -9.4940453e+00]\n",
      " [-2.5841997e+01 -2.6477064e+01 -2.4861927e+01 -2.1910555e+01\n",
      "  -2.3953743e+01 -2.3919773e+01 -2.2858673e+01 -2.3875130e+01\n",
      "  -2.7495975e+01 -1.2772858e+01]]\n"
     ]
    },
    {
     "data": {
      "image/png": "[encoded data removed]",
      "text/plain": [
       "<Figure size 400x400 with 2 Axes>"
      ]
     },
     "metadata": {},
     "output_type": "display_data"
    },
    {
     "name": "stdout",
     "output_type": "stream",
     "text": [
      "Euclidean distance between first column and column 1 of the same matrix: 0.0\n",
      "Euclidean distance between first column and column 2 of the same matrix: 12.684823989868164\n",
      "Euclidean distance between first column and column 3 of the same matrix: 25.0831298828125\n",
      "Euclidean distance between first column and column 4 of the same matrix: 29.41314697265625\n",
      "Euclidean distance between first column and column 5 of the same matrix: 29.23936653137207\n",
      "Euclidean distance between first column and column 6 of the same matrix: 24.736780166625977\n",
      "Euclidean distance between first column and column 7 of the same matrix: 21.656997680664062\n",
      "Euclidean distance between first column and column 8 of the same matrix: 22.844505310058594\n",
      "Euclidean distance between first column and column 9 of the same matrix: 25.866384506225586\n",
      "Euclidean distance between first column and column 10 of the same matrix: 47.23025894165039\n",
      "Failed to extract MFCC features.\n"
     ]
    }
   ],
   "source": [
    "def extract_mfcc(audio_file,sr=None, n_mfcc=13):\n",
    "    \"\"\"\n",
    "    Extract MFCC features from an audio file.\n",
    "    \n",
    "    Parameters:\n",
    "    - audio_file: path to the audio file\n",
    "    - n_mfcc: number of MFCC features to extract\n",
    "    \n",
    "    Returns:\n",
    "    - mfcc: numpy array containing the MFCC features\n",
    "    \"\"\"\n",
    "    try:\n",
    "        y, sr = librosa.load(audio_file, sr=sr)  # Load audio file\n",
    "        mfcc = librosa.feature.mfcc(y=y, sr=sr, n_mfcc=n_mfcc)  # Extract MFCC features\n",
    "        return mfcc\n",
    "    except FileNotFoundError:\n",
    "        print(f\"Audio file not found: {audio_file}\")\n",
    "        return None\n",
    "\n",
    "def plot_mfcc(mfcc):\n",
    "    \"\"\"\n",
    "    Plot the MFCC features.\n",
    "    \n",
    "    Parameters:\n",
    "    - mfcc: numpy array containing the MFCC features\n",
    "    \"\"\"\n",
    "    plt.figure(figsize=(4, 4))\n",
    "    librosa.display.specshow(mfcc, x_axis='time')\n",
    "    plt.colorbar()\n",
    "    plt.title('MFCC')\n",
    "    plt.tight_layout()\n",
    "    plt.show()\n",
    "\n",
    "def calculate_euclidean_distance(column1, column2):\n",
    "    \"\"\"\n",
    "    Calculate the Euclidean distance between two columns.\n",
    "    \n",
    "    Parameters:\n",
    "    - column1: first numpy array column\n",
    "    - column2: second numpy array column\n",
    "    \n",
    "    Returns:\n",
    "    - distance: Euclidean distance between the columns\n",
    "    \"\"\"\n",
    "    return np.linalg.norm(column1 - column2)\n",
    "    \n",
    "# Example usage:\n",
    "audio_files = ['C:\\\\IIT-G Internship\\\\ASCII Waves Recording\\\\234101011_u_10-4.wav']  # Replace with actual paths to your audio files\n",
    "\n",
    "mfcc_matrices = []\n",
    "\n",
    "for audio_file in audio_files:\n",
    "    mfcc = extract_mfcc(audio_file)\n",
    "    if mfcc is not None:\n",
    "        print(f\"MFCC features for {audio_file}:\")\n",
    "        print(mfcc)  # This will print the MFCC matrix\n",
    "        plot_mfcc(mfcc)\n",
    "        mfcc_matrices.append(mfcc)  # Append the first column of the MFCC matrix\n",
    "\n",
    "for i in range(mfcc.shape[1]):\n",
    "        distance = calculate_euclidean_distance(mfcc[1:, 0], mfcc[1:, i])\n",
    "        print(f\"Euclidean distance between first column and column {i+1} of the same matrix: {distance}\")\n",
    "else:\n",
    "    print(\"Failed to extract MFCC features.\")"
   ]
  }
 ],
 "metadata": {
  "kernelspec": {
   "display_name": "Python 3 (ipykernel)",
   "language": "python",
   "name": "python3"
  },
  "language_info": {
   "codemirror_mode": {
    "name": "ipython",
    "version": 3
   },
   "file_extension": ".py",
   "mimetype": "text/x-python",
   "name": "python",
   "nbconvert_exporter": "python",
   "pygments_lexer": "ipython3",
   "version": "3.11.3"
  }
 },
 "nbformat": 4,
 "nbformat_minor": 5
}
