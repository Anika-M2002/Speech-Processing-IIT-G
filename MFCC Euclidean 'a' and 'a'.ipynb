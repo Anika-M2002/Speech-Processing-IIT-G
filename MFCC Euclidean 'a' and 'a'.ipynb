{
 "cells": [
  {
   "cell_type": "code",
   "execution_count": 9,
   "id": "fc91e565",
   "metadata": {},
   "outputs": [],
   "source": [
    "import librosa\n",
    "import librosa.display\n",
    "import matplotlib.pyplot as plt\n",
    "import numpy as np"
   ]
  },
  {
   "cell_type": "code",
   "execution_count": 10,
   "id": "e299a021",
   "metadata": {
    "scrolled": true
   },
   "outputs": [
    {
     "name": "stdout",
     "output_type": "stream",
     "text": [
      "MFCC features for C:\\IIT-G Internship\\ASCII Waves Recording\\Used\\234101011_a_11(2)-2.wav:\n",
      "[[-351.00757    -267.04715    -213.45972    -211.7793     -234.43544\n",
      "  -256.72998    -277.63052    -308.67694    -319.8311     -312.05426   ]\n",
      " [ 146.03682     154.03574     145.97983     145.63773     147.69489\n",
      "   150.95065     150.5588      151.30782     150.57013     126.746704  ]\n",
      " [   6.092407    -35.51602     -59.464455    -57.227127    -42.361214\n",
      "   -29.684784    -19.752018    -12.907835      3.8814592    16.698416  ]\n",
      " [ -14.169696      3.638988      8.18647       4.651394     -4.6651945\n",
      "   -12.31867     -11.24423     -12.123945    -12.138529     -2.1274855 ]\n",
      " [ -18.280289    -33.66287     -36.25567     -33.876747    -33.135895\n",
      "   -33.551727    -30.873142    -24.729717    -17.103405    -10.319367  ]\n",
      " [  -9.357389    -13.701714    -15.181549    -14.764006    -11.554573\n",
      "    -9.762973    -13.44471     -12.12282      -3.6347733    -0.88035524]\n",
      " [  -4.485645     -8.859351     -7.415781     -2.751775     -0.9473416\n",
      "    -0.92675334   -2.6860862     1.2148435     8.40486       6.176793  ]\n",
      " [ -11.215554    -30.257336    -36.328255    -28.979748    -18.66191\n",
      "   -13.073076    -11.20605     -10.066433     -0.35809547    6.5718055 ]\n",
      " [  -9.80196      -7.5694876   -10.092711    -10.673542     -9.716137\n",
      "    -9.359627    -11.735107    -21.278118    -14.871116     -2.44669   ]\n",
      " [   5.5019083    -6.805078    -10.635617    -12.30052     -12.995281\n",
      "   -12.916488    -13.10021     -11.492619     -6.8954062    -5.2659607 ]\n",
      " [   9.028929      5.619988      7.1044736     8.174194     10.10865\n",
      "     9.862011     11.450119      9.328226      5.8070135    -1.8140237 ]\n",
      " [   0.75368744   20.640318     22.453506     19.0405        7.842724\n",
      "     3.692804      7.473935      7.5740213     1.7157669    -3.2051663 ]\n",
      " [ -12.643644    -18.89718     -17.196636    -17.005       -19.208546\n",
      "   -18.203127    -18.697468    -22.201405    -15.7650385    -8.03163   ]]\n"
     ]
    },
    {
     "data": {
      "image/png": "[encoded data removed]",
      "text/plain": [
       "<Figure size 400x400 with 2 Axes>"
      ]
     },
     "metadata": {},
     "output_type": "display_data"
    },
    {
     "name": "stdout",
     "output_type": "stream",
     "text": [
      "MFCC features for C:\\IIT-G Internship\\ASCII Waves Recording\\234101011_a_11-7.wav:\n",
      "[[-3.67577148e+02 -2.83717407e+02 -2.18198029e+02 -2.09430145e+02\n",
      "  -2.31066055e+02 -2.53099808e+02 -2.73908417e+02 -3.03867584e+02\n",
      "  -3.28816040e+02 -3.67905701e+02]\n",
      " [ 1.47637756e+02  1.56463562e+02  1.46718246e+02  1.45387177e+02\n",
      "   1.47150818e+02  1.50725433e+02  1.50800934e+02  1.50458282e+02\n",
      "   1.62644165e+02  1.70120148e+02]\n",
      " [ 5.45199299e+00 -3.10646439e+01 -5.81213570e+01 -5.88793106e+01\n",
      "  -4.45735474e+01 -3.17350426e+01 -2.08636894e+01 -1.39194317e+01\n",
      "   4.90558118e-01  1.87760963e+01]\n",
      " [-1.53382549e+01  1.79194236e+00  8.11548233e+00  5.49354362e+00\n",
      "  -3.06563282e+00 -1.17888966e+01 -1.14460468e+01 -1.14724503e+01\n",
      "  -9.63756466e+00 -3.78034055e-01]\n",
      " [-1.96799126e+01 -3.38651390e+01 -3.65243797e+01 -3.44151917e+01\n",
      "  -3.28760338e+01 -3.37454948e+01 -3.15510597e+01 -2.55925941e+01\n",
      "  -1.73260708e+01 -1.13585835e+01]\n",
      " [-1.15194559e+01 -1.39948635e+01 -1.51167393e+01 -1.50916233e+01\n",
      "  -1.21173925e+01 -9.54003143e+00 -1.30289574e+01 -1.28508596e+01\n",
      "  -3.13851595e+00  3.48908138e+00]\n",
      " [-8.85605812e+00 -9.92967033e+00 -8.12609100e+00 -3.32945251e+00\n",
      "  -1.26883769e+00 -5.45787454e-01 -2.80540323e+00  5.67359030e-02\n",
      "   1.06334429e+01  1.48428135e+01]\n",
      " [-1.24593067e+01 -2.91076546e+01 -3.65946732e+01 -3.05683002e+01\n",
      "  -2.00941696e+01 -1.37055569e+01 -1.14383488e+01 -1.05281353e+01\n",
      "  -5.19427419e-01  9.34410667e+00]\n",
      " [-1.31803131e+01 -8.21542168e+00 -1.00748405e+01 -1.05690365e+01\n",
      "  -1.00254345e+01 -9.53373528e+00 -1.04938602e+01 -2.06785851e+01\n",
      "  -1.66628723e+01 -1.21200953e+01]\n",
      " [-1.78418922e+00 -6.97594500e+00 -1.04953957e+01 -1.19269199e+01\n",
      "  -1.31825275e+01 -1.27151775e+01 -1.31387024e+01 -1.23643627e+01\n",
      "  -4.84862041e+00 -5.69780397e+00]\n",
      " [ 9.72647095e+00  4.61166191e+00  6.80595636e+00  7.91610098e+00\n",
      "   9.95348263e+00  9.88863659e+00  1.11636009e+01  9.92638016e+00\n",
      "   8.55138779e+00  6.60770941e+00]\n",
      " [ 5.70765305e+00  1.91562424e+01  2.25346718e+01  2.01199226e+01\n",
      "   9.40581131e+00  3.60554552e+00  6.84237766e+00  7.85423231e+00\n",
      "   6.90043783e+00  2.03507519e+00]\n",
      " [-1.62639904e+01 -2.02672844e+01 -1.74820328e+01 -1.68145142e+01\n",
      "  -1.89758701e+01 -1.85745354e+01 -1.83834343e+01 -2.18301773e+01\n",
      "  -1.80891457e+01 -1.45024853e+01]]\n"
     ]
    },
    {
     "data": {
      "image/png": "[encoded data removed]",
      "text/plain": [
       "<Figure size 400x400 with 2 Axes>"
      ]
     },
     "metadata": {},
     "output_type": "display_data"
    },
    {
     "name": "stdout",
     "output_type": "stream",
     "text": [
      "Euclidean distance between column 1 of the first matrix and column 1 of the second matrix: 11.586859703063965\n",
      "Euclidean distance between column 2 of the first matrix and column 2 of the second matrix: 6.103908061981201\n",
      "Euclidean distance between column 3 of the first matrix and column 3 of the second matrix: 1.7897683382034302\n",
      "Euclidean distance between column 4 of the first matrix and column 4 of the second matrix: 2.8591458797454834\n",
      "Euclidean distance between column 5 of the first matrix and column 5 of the second matrix: 3.5972535610198975\n",
      "Euclidean distance between column 6 of the first matrix and column 6 of the second matrix: 2.3204452991485596\n",
      "Euclidean distance between column 7 of the first matrix and column 7 of the second matrix: 2.0390048027038574\n",
      "Euclidean distance between column 8 of the first matrix and column 8 of the second matrix: 2.586881399154663\n",
      "Euclidean distance between column 9 of the first matrix and column 9 of the second matrix: 14.698211669921875\n",
      "Euclidean distance between column 10 of the first matrix and column 10 of the second matrix: 47.17636489868164\n"
     ]
    }
   ],
   "source": [
    "def extract_mfcc(audio_file,sr=None, n_mfcc=13):\n",
    "    \"\"\"\n",
    "    Extract MFCC features from an audio file.\n",
    "    \n",
    "    Parameters:\n",
    "    - audio_file: path to the audio file\n",
    "    - n_mfcc: number of MFCC features to extract\n",
    "    \n",
    "    Returns:\n",
    "    - mfcc: numpy array containing the MFCC features\n",
    "    \"\"\"\n",
    "    try:\n",
    "        y, sr = librosa.load(audio_file, sr=sr)  # Load audio file\n",
    "        mfcc = librosa.feature.mfcc(y=y, sr=sr, n_mfcc=n_mfcc)  # Extract MFCC features\n",
    "        return mfcc\n",
    "    except FileNotFoundError:\n",
    "        print(f\"Audio file not found: {audio_file}\")\n",
    "        return None\n",
    "\n",
    "def plot_mfcc(mfcc):\n",
    "    \"\"\"\n",
    "    Plot the MFCC features.\n",
    "    \n",
    "    Parameters:\n",
    "    - mfcc: numpy array containing the MFCC features\n",
    "    \"\"\"\n",
    "    plt.figure(figsize=(4, 4))\n",
    "    librosa.display.specshow(mfcc, x_axis='time')\n",
    "    plt.colorbar()\n",
    "    plt.title('MFCC')\n",
    "    plt.tight_layout()\n",
    "    plt.show()\n",
    "\n",
    "def calculate_euclidean_distance(column1, column2):\n",
    "    \"\"\"\n",
    "    Calculate the Euclidean distance between two columns.\n",
    "    \n",
    "    Parameters:\n",
    "    - column1: first numpy array column\n",
    "    - column2: second numpy array column\n",
    "    \n",
    "    Returns:\n",
    "    - distance: Euclidean distance between the columns\n",
    "    \"\"\"\n",
    "    return np.linalg.norm(column1 - column2)\n",
    "\n",
    "# Example usage:\n",
    "audio_files = ['C:\\\\IIT-G Internship\\\\ASCII Waves Recording\\\\Used\\\\234101011_a_11(2)-2.wav', 'C:\\\\IIT-G Internship\\\\ASCII Waves Recording\\\\234101011_a_11-7.wav']  # Replace with actual paths to your audio files\n",
    "\n",
    "mfcc_matrices = []\n",
    "\n",
    "for audio_file in audio_files:\n",
    "    mfcc = extract_mfcc(audio_file)\n",
    "    if mfcc is not None:\n",
    "        print(f\"MFCC features for {audio_file}:\")\n",
    "        print(mfcc)  # This will print the MFCC matrix\n",
    "        plot_mfcc(mfcc)\n",
    "        mfcc_matrices.append(mfcc)  # Append the first column of the MFCC matrix\n",
    "\n",
    "if len(mfcc_matrices) == 2:\n",
    "    for i in range(min(mfcc_matrices[0].shape[1], mfcc_matrices[1].shape[1])):\n",
    "        column1 = mfcc_matrices[0][1:, i]  # Exclude the first element\n",
    "        column2 = mfcc_matrices[1][1:, i]  # Exclude the first element\n",
    "        distance = calculate_euclidean_distance(column1, column2)\n",
    "        print(f\"Euclidean distance between column {i+1} of the first matrix and column {i+1} of the second matrix: {distance}\")\n",
    "else:\n",
    "    print(\"Failed to extract MFCC features.\")"
   ]
  }
 ],
 "metadata": {
  "kernelspec": {
   "display_name": "Python 3 (ipykernel)",
   "language": "python",
   "name": "python3"
  },
  "language_info": {
   "codemirror_mode": {
    "name": "ipython",
    "version": 3
   },
   "file_extension": ".py",
   "mimetype": "text/x-python",
   "name": "python",
   "nbconvert_exporter": "python",
   "pygments_lexer": "ipython3",
   "version": "3.11.3"
  }
 },
 "nbformat": 4,
 "nbformat_minor": 5
}
