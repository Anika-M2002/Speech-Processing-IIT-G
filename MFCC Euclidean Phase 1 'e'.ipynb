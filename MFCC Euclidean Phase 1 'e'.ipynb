{
 "cells": [
  {
   "cell_type": "code",
   "execution_count": 3,
   "id": "fc91e565",
   "metadata": {},
   "outputs": [],
   "source": [
    "import librosa\n",
    "import librosa.display\n",
    "import matplotlib.pyplot as plt\n",
    "import numpy as np"
   ]
  },
  {
   "cell_type": "code",
   "execution_count": 4,
   "id": "e299a021",
   "metadata": {
    "scrolled": true
   },
   "outputs": [
    {
     "name": "stdout",
     "output_type": "stream",
     "text": [
      "MFCC features for C:\\IIT-G Internship\\ASCII Waves Recording\\234101011_e_10-4.wav:\n",
      "[[-181.66394    -130.52516    -135.31253    -155.55383    -179.64703\n",
      "  -215.27823    -250.7267     -290.00143    -323.54022    -354.83057   ]\n",
      " [ 121.084656    109.21268      98.38544     107.57034     119.22588\n",
      "   121.07956     129.7507      131.07277     130.14883     130.9653    ]\n",
      " [ -86.94835     -91.757645    -88.11727     -77.68785     -74.905045\n",
      "   -66.36754     -53.01963     -40.72782     -27.756775    -12.872986  ]\n",
      " [  54.10563      46.83529      34.447002     31.470982     31.406414\n",
      "    20.138264     10.706554     11.020617     17.392914     17.058363  ]\n",
      " [ -16.464523    -19.666431    -21.568855    -18.957024    -16.043291\n",
      "   -17.317417    -18.976555    -18.835724     -6.4380627    -0.41792202]\n",
      " [ -31.748924    -30.66806     -33.865395    -38.07168     -39.295765\n",
      "   -42.02412     -47.828484    -49.105385    -39.4506      -31.790142  ]\n",
      " [ -11.257023    -14.310413    -16.88364     -18.076218    -19.845913\n",
      "   -23.40499     -24.25985     -22.60356     -20.33097     -16.90108   ]\n",
      " [ -18.19958     -13.214086     -7.525191     -4.611625     -5.9021416\n",
      "    -7.160363     -8.890835     -7.9082985    -4.662279      2.8612022 ]\n",
      " [  20.02372      17.059067     12.948431     11.424824     10.4334955\n",
      "     4.9399076     5.6345243     3.4401748     1.1876383     6.9955883 ]\n",
      " [  -4.476014     -7.4480414   -12.416617    -15.401159    -16.186893\n",
      "   -16.185116    -12.78858      -8.78071      -6.1768656    -2.1935005 ]\n",
      " [ -16.079887    -14.381432    -14.696789    -16.257153    -14.613634\n",
      "   -14.691807    -15.298426    -17.293304    -16.088732    -11.662342  ]\n",
      " [  12.081397      5.9020243    -3.4584785    -6.3440585    -5.4189157\n",
      "    -7.8524446    -7.3111124    -9.153239     -5.9080706    -3.9139862 ]\n",
      " [  11.030154     11.926878      9.987385      7.435226      1.8032324\n",
      "    -4.143328    -10.255065    -13.460906    -14.683739     -7.841857  ]]\n"
     ]
    },
    {
     "data": {
      "image/png": "[encoded data removed]",
      "text/plain": [
       "<Figure size 400x400 with 2 Axes>"
      ]
     },
     "metadata": {},
     "output_type": "display_data"
    },
    {
     "name": "stdout",
     "output_type": "stream",
     "text": [
      "Euclidean distance between first column and column 1 of the same matrix: 0.0\n",
      "Euclidean distance between first column and column 2 of the same matrix: 17.945070266723633\n",
      "Euclidean distance between first column and column 3 of the same matrix: 37.90538787841797\n",
      "Euclidean distance between first column and column 4 of the same matrix: 40.047428131103516\n",
      "Euclidean distance between first column and column 5 of the same matrix: 39.604835510253906\n",
      "Euclidean distance between first column and column 6 of the same matrix: 54.28848648071289\n",
      "Euclidean distance between first column and column 7 of the same matrix: 68.82015991210938\n",
      "Euclidean distance between first column and column 8 of the same matrix: 77.3283920288086\n",
      "Euclidean distance between first column and column 9 of the same matrix: 81.86318969726562\n",
      "Euclidean distance between first column and column 10 of the same matrix: 92.17730712890625\n",
      "Failed to extract MFCC features.\n"
     ]
    }
   ],
   "source": [
    "def extract_mfcc(audio_file,sr=None, n_mfcc=13):\n",
    "    \"\"\"\n",
    "    Extract MFCC features from an audio file.\n",
    "    \n",
    "    Parameters:\n",
    "    - audio_file: path to the audio file\n",
    "    - n_mfcc: number of MFCC features to extract\n",
    "    \n",
    "    Returns:\n",
    "    - mfcc: numpy array containing the MFCC features\n",
    "    \"\"\"\n",
    "    try:\n",
    "        y, sr = librosa.load(audio_file, sr=sr)  # Load audio file\n",
    "        mfcc = librosa.feature.mfcc(y=y, sr=sr, n_mfcc=n_mfcc)  # Extract MFCC features\n",
    "        return mfcc\n",
    "    except FileNotFoundError:\n",
    "        print(f\"Audio file not found: {audio_file}\")\n",
    "        return None\n",
    "\n",
    "def plot_mfcc(mfcc):\n",
    "    \"\"\"\n",
    "    Plot the MFCC features.\n",
    "    \n",
    "    Parameters:\n",
    "    - mfcc: numpy array containing the MFCC features\n",
    "    \"\"\"\n",
    "    plt.figure(figsize=(4, 4))\n",
    "    librosa.display.specshow(mfcc, x_axis='time')\n",
    "    plt.colorbar()\n",
    "    plt.title('MFCC')\n",
    "    plt.tight_layout()\n",
    "    plt.show()\n",
    "\n",
    "def calculate_euclidean_distance(column1, column2):\n",
    "    \"\"\"\n",
    "    Calculate the Euclidean distance between two columns.\n",
    "    \n",
    "    Parameters:\n",
    "    - column1: first numpy array column\n",
    "    - column2: second numpy array column\n",
    "    \n",
    "    Returns:\n",
    "    - distance: Euclidean distance between the columns\n",
    "    \"\"\"\n",
    "    return np.linalg.norm(column1 - column2)\n",
    "    \n",
    "# Example usage:\n",
    "audio_files = ['C:\\\\IIT-G Internship\\\\ASCII Waves Recording\\\\234101011_e_10-4.wav']  # Replace with actual paths to your audio files\n",
    "\n",
    "mfcc_matrices = []\n",
    "\n",
    "for audio_file in audio_files:\n",
    "    mfcc = extract_mfcc(audio_file)\n",
    "    if mfcc is not None:\n",
    "        print(f\"MFCC features for {audio_file}:\")\n",
    "        print(mfcc)  # This will print the MFCC matrix\n",
    "        plot_mfcc(mfcc)\n",
    "        mfcc_matrices.append(mfcc)  # Append the first column of the MFCC matrix\n",
    "\n",
    "for i in range(mfcc.shape[1]):\n",
    "        distance = calculate_euclidean_distance(mfcc[1:, 0], mfcc[1:, i])\n",
    "        print(f\"Euclidean distance between first column and column {i+1} of the same matrix: {distance}\")\n",
    "else:\n",
    "    print(\"Failed to extract MFCC features.\")"
   ]
  }
 ],
 "metadata": {
  "kernelspec": {
   "display_name": "Python 3 (ipykernel)",
   "language": "python",
   "name": "python3"
  },
  "language_info": {
   "codemirror_mode": {
    "name": "ipython",
    "version": 3
   },
   "file_extension": ".py",
   "mimetype": "text/x-python",
   "name": "python",
   "nbconvert_exporter": "python",
   "pygments_lexer": "ipython3",
   "version": "3.11.3"
  }
 },
 "nbformat": 4,
 "nbformat_minor": 5
}
