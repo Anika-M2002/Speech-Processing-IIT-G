{
 "cells": [
  {
   "cell_type": "code",
   "execution_count": 3,
   "id": "fc91e565",
   "metadata": {},
   "outputs": [],
   "source": [
    "import librosa\n",
    "import librosa.display\n",
    "import matplotlib.pyplot as plt\n",
    "import numpy as np"
   ]
  },
  {
   "cell_type": "code",
   "execution_count": 4,
   "id": "e299a021",
   "metadata": {
    "scrolled": true
   },
   "outputs": [
    {
     "name": "stdout",
     "output_type": "stream",
     "text": [
      "MFCC features for C:\\IIT-G Internship\\ASCII Waves Recording\\Used\\234101011_a_11(2)-2.wav:\n",
      "[[-351.00757    -267.04715    -213.45972    -211.7793     -234.43544\n",
      "  -256.72998    -277.63052    -308.67694    -319.8311     -312.05426   ]\n",
      " [ 146.03682     154.03574     145.97983     145.63773     147.69489\n",
      "   150.95065     150.5588      151.30782     150.57013     126.746704  ]\n",
      " [   6.092407    -35.51602     -59.464455    -57.227127    -42.361214\n",
      "   -29.684784    -19.752018    -12.907835      3.8814592    16.698416  ]\n",
      " [ -14.169696      3.638988      8.18647       4.651394     -4.6651945\n",
      "   -12.31867     -11.24423     -12.123945    -12.138529     -2.1274855 ]\n",
      " [ -18.280289    -33.66287     -36.25567     -33.876747    -33.135895\n",
      "   -33.551727    -30.873142    -24.729717    -17.103405    -10.319367  ]\n",
      " [  -9.357389    -13.701714    -15.181549    -14.764006    -11.554573\n",
      "    -9.762973    -13.44471     -12.12282      -3.6347733    -0.88035524]\n",
      " [  -4.485645     -8.859351     -7.415781     -2.751775     -0.9473416\n",
      "    -0.92675334   -2.6860862     1.2148435     8.40486       6.176793  ]\n",
      " [ -11.215554    -30.257336    -36.328255    -28.979748    -18.66191\n",
      "   -13.073076    -11.20605     -10.066433     -0.35809547    6.5718055 ]\n",
      " [  -9.80196      -7.5694876   -10.092711    -10.673542     -9.716137\n",
      "    -9.359627    -11.735107    -21.278118    -14.871116     -2.44669   ]\n",
      " [   5.5019083    -6.805078    -10.635617    -12.30052     -12.995281\n",
      "   -12.916488    -13.10021     -11.492619     -6.8954062    -5.2659607 ]\n",
      " [   9.028929      5.619988      7.1044736     8.174194     10.10865\n",
      "     9.862011     11.450119      9.328226      5.8070135    -1.8140237 ]\n",
      " [   0.75368744   20.640318     22.453506     19.0405        7.842724\n",
      "     3.692804      7.473935      7.5740213     1.7157669    -3.2051663 ]\n",
      " [ -12.643644    -18.89718     -17.196636    -17.005       -19.208546\n",
      "   -18.203127    -18.697468    -22.201405    -15.7650385    -8.03163   ]]\n"
     ]
    },
    {
     "data": {
      "image/png": "[encoded data removed]",
      "text/plain": [
       "<Figure size 400x400 with 2 Axes>"
      ]
     },
     "metadata": {},
     "output_type": "display_data"
    },
    {
     "name": "stdout",
     "output_type": "stream",
     "text": [
      "MFCC features for C:\\IIT-G Internship\\ASCII Waves Recording\\Used\\234101011_o_11-5.wav:\n",
      "[[-2.77891052e+02 -2.36564941e+02 -2.33022842e+02 -2.37977554e+02\n",
      "  -2.42510239e+02 -2.54679947e+02 -2.72556335e+02 -2.93521423e+02\n",
      "  -2.91807556e+02 -2.75917877e+02]\n",
      " [ 1.52155869e+02  1.43099854e+02  1.34740280e+02  1.30787125e+02\n",
      "   1.34744476e+02  1.47401703e+02  1.52282806e+02  1.50421295e+02\n",
      "   1.53620316e+02  1.35219696e+02]\n",
      " [ 2.35752449e+01  1.28966541e+01  8.82866859e+00  6.66573143e+00\n",
      "   5.87618494e+00  9.40012741e+00  1.67778778e+01  2.00155582e+01\n",
      "   3.09033737e+01  3.74443970e+01]\n",
      " [ 2.98087425e+01  2.81266117e+01  2.61585770e+01  2.22503357e+01\n",
      "   1.99513168e+01  2.22090607e+01  2.13529320e+01  1.53626375e+01\n",
      "   1.70073013e+01  1.64527683e+01]\n",
      " [-2.99601059e+01 -3.39167595e+01 -3.34620209e+01 -3.57017517e+01\n",
      "  -3.88289680e+01 -4.04606476e+01 -3.47825851e+01 -3.05867653e+01\n",
      "  -1.93724060e+01 -9.91511631e+00]\n",
      " [-3.34251213e+00 -1.23432436e+01 -1.86077499e+01 -1.77866402e+01\n",
      "  -1.43893061e+01 -1.58622351e+01 -1.96974220e+01 -2.13809090e+01\n",
      "  -1.72866096e+01 -1.45359364e+01]\n",
      " [ 1.06158562e+01  7.23377132e+00  5.89317703e+00  7.47908020e+00\n",
      "   8.95137215e+00  7.97829485e+00  4.11840820e+00 -5.08348560e+00\n",
      "  -9.00300980e+00 -9.68267059e+00]\n",
      " [-2.94869499e+01 -2.95495224e+01 -3.05528030e+01 -2.66225090e+01\n",
      "  -2.39171410e+01 -2.28534355e+01 -2.03238373e+01 -1.75650368e+01\n",
      "  -6.11445522e+00 -3.81086445e+00]\n",
      " [ 7.94421959e+00  6.28949594e+00  5.37427807e+00  6.44421291e+00\n",
      "   7.58687687e+00  4.89404964e+00  2.39408898e+00  7.33923316e-02\n",
      "  -3.48442721e+00 -2.18477964e+00]\n",
      " [-2.47457962e+01 -2.84333553e+01 -2.72338047e+01 -2.62895794e+01\n",
      "  -2.20281258e+01 -2.01934013e+01 -1.98237667e+01 -1.96356506e+01\n",
      "  -1.04977579e+01 -2.28154969e+00]\n",
      " [-1.45225563e+01 -1.68399105e+01 -1.95427017e+01 -2.12964611e+01\n",
      "  -1.99442348e+01 -1.95838089e+01 -2.06745377e+01 -2.13720016e+01\n",
      "  -1.00486555e+01 -2.20870042e+00]\n",
      " [-4.52103806e+00 -7.10537148e+00 -1.08751869e+01 -1.08146305e+01\n",
      "  -1.04984360e+01 -1.22525082e+01 -1.24595814e+01 -1.74234447e+01\n",
      "  -1.46701221e+01 -5.18068218e+00]\n",
      " [-2.86115384e+00 -1.45820847e+01 -2.24075203e+01 -2.28117294e+01\n",
      "  -2.28710766e+01 -2.36260681e+01 -2.19751015e+01 -2.72275772e+01\n",
      "  -1.84330006e+01 -5.99584389e+00]]\n"
     ]
    },
    {
     "data": {
      "image/png": "[encoded data removed]",
      "text/plain": [
       "<Figure size 400x400 with 2 Axes>"
      ]
     },
     "metadata": {},
     "output_type": "display_data"
    },
    {
     "name": "stdout",
     "output_type": "stream",
     "text": [
      "Euclidean distance between column 1 of the first matrix and column 1 of the second matrix: 70.14081573486328\n",
      "Euclidean distance between column 2 of the first matrix and column 2 of the second matrix: 72.64411926269531\n",
      "Euclidean distance between column 3 of the first matrix and column 3 of the second matrix: 87.78414154052734\n",
      "Euclidean distance between column 4 of the first matrix and column 4 of the second matrix: 83.77072143554688\n",
      "Euclidean distance between column 5 of the first matrix and column 5 of the second matrix: 70.00396728515625\n",
      "Euclidean distance between column 6 of the first matrix and column 6 of the second matrix: 66.32584381103516\n",
      "Euclidean distance between column 7 of the first matrix and column 7 of the second matrix: 65.33541870117188\n",
      "Euclidean distance between column 8 of the first matrix and column 8 of the second matrix: 64.5832748413086\n",
      "Euclidean distance between column 9 of the first matrix and column 9 of the second matrix: 52.78549575805664\n",
      "Euclidean distance between column 10 of the first matrix and column 10 of the second matrix: 37.557315826416016\n"
     ]
    }
   ],
   "source": [
    "def extract_mfcc(audio_file,sr=None, n_mfcc=13):\n",
    "    \"\"\"\n",
    "    Extract MFCC features from an audio file.\n",
    "    \n",
    "    Parameters:\n",
    "    - audio_file: path to the audio file\n",
    "    - n_mfcc: number of MFCC features to extract\n",
    "    \n",
    "    Returns:\n",
    "    - mfcc: numpy array containing the MFCC features\n",
    "    \"\"\"\n",
    "    try:\n",
    "        y, sr = librosa.load(audio_file, sr=sr)  # Load audio file\n",
    "        mfcc = librosa.feature.mfcc(y=y, sr=sr, n_mfcc=n_mfcc)  # Extract MFCC features\n",
    "        return mfcc\n",
    "    except FileNotFoundError:\n",
    "        print(f\"Audio file not found: {audio_file}\")\n",
    "        return None\n",
    "\n",
    "def plot_mfcc(mfcc):\n",
    "    \"\"\"\n",
    "    Plot the MFCC features.\n",
    "    \n",
    "    Parameters:\n",
    "    - mfcc: numpy array containing the MFCC features\n",
    "    \"\"\"\n",
    "    plt.figure(figsize=(4, 4))\n",
    "    librosa.display.specshow(mfcc, x_axis='time')\n",
    "    plt.colorbar()\n",
    "    plt.title('MFCC')\n",
    "    plt.tight_layout()\n",
    "    plt.show()\n",
    "\n",
    "def calculate_euclidean_distance(column1, column2):\n",
    "    \"\"\"\n",
    "    Calculate the Euclidean distance between two columns.\n",
    "    \n",
    "    Parameters:\n",
    "    - column1: first numpy array column\n",
    "    - column2: second numpy array column\n",
    "    \n",
    "    Returns:\n",
    "    - distance: Euclidean distance between the columns\n",
    "    \"\"\"\n",
    "    return np.linalg.norm(column1 - column2)\n",
    "\n",
    "# Example usage:\n",
    "audio_files = ['C:\\\\IIT-G Internship\\\\ASCII Waves Recording\\\\Used\\\\234101011_a_11(2)-2.wav', 'C:\\\\IIT-G Internship\\\\ASCII Waves Recording\\\\Used\\\\234101011_o_11-5.wav']  # Replace with actual paths to your audio files\n",
    "\n",
    "mfcc_matrices = []\n",
    "\n",
    "for audio_file in audio_files:\n",
    "    mfcc = extract_mfcc(audio_file)\n",
    "    if mfcc is not None:\n",
    "        print(f\"MFCC features for {audio_file}:\")\n",
    "        print(mfcc)  # This will print the MFCC matrix\n",
    "        plot_mfcc(mfcc)\n",
    "        mfcc_matrices.append(mfcc)  # Append the first column of the MFCC matrix\n",
    "\n",
    "if len(mfcc_matrices) == 2:\n",
    "    for i in range(min(mfcc_matrices[0].shape[1], mfcc_matrices[1].shape[1])):\n",
    "        column1 = mfcc_matrices[0][1:, i]  # Exclude the first element\n",
    "        column2 = mfcc_matrices[1][1:, i]  # Exclude the first element\n",
    "        distance = calculate_euclidean_distance(column1, column2)\n",
    "        print(f\"Euclidean distance between column {i+1} of the first matrix and column {i+1} of the second matrix: {distance}\")\n",
    "else:\n",
    "    print(\"Failed to extract MFCC features.\")"
   ]
  }
 ],
 "metadata": {
  "kernelspec": {
   "display_name": "Python 3 (ipykernel)",
   "language": "python",
   "name": "python3"
  },
  "language_info": {
   "codemirror_mode": {
    "name": "ipython",
    "version": 3
   },
   "file_extension": ".py",
   "mimetype": "text/x-python",
   "name": "python",
   "nbconvert_exporter": "python",
   "pygments_lexer": "ipython3",
   "version": "3.11.3"
  }
 },
 "nbformat": 4,
 "nbformat_minor": 5
}
