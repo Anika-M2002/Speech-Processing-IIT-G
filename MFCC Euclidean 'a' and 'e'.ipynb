{
 "cells": [
  {
   "cell_type": "code",
   "execution_count": 1,
   "id": "fc91e565",
   "metadata": {},
   "outputs": [],
   "source": [
    "import librosa\n",
    "import librosa.display\n",
    "import matplotlib.pyplot as plt\n",
    "import numpy as np"
   ]
  },
  {
   "cell_type": "code",
   "execution_count": 2,
   "id": "e299a021",
   "metadata": {
    "scrolled": true
   },
   "outputs": [
    {
     "name": "stdout",
     "output_type": "stream",
     "text": [
      "MFCC features for C:\\IIT-G Internship\\ASCII Waves Recording\\Used\\234101011_a_11(2)-2.wav:\n",
      "[[-351.00757    -267.04715    -213.45972    -211.7793     -234.43544\n",
      "  -256.72998    -277.63052    -308.67694    -319.8311     -312.05426   ]\n",
      " [ 146.03682     154.03574     145.97983     145.63773     147.69489\n",
      "   150.95065     150.5588      151.30782     150.57013     126.746704  ]\n",
      " [   6.092407    -35.51602     -59.464455    -57.227127    -42.361214\n",
      "   -29.684784    -19.752018    -12.907835      3.8814592    16.698416  ]\n",
      " [ -14.169696      3.638988      8.18647       4.651394     -4.6651945\n",
      "   -12.31867     -11.24423     -12.123945    -12.138529     -2.1274855 ]\n",
      " [ -18.280289    -33.66287     -36.25567     -33.876747    -33.135895\n",
      "   -33.551727    -30.873142    -24.729717    -17.103405    -10.319367  ]\n",
      " [  -9.357389    -13.701714    -15.181549    -14.764006    -11.554573\n",
      "    -9.762973    -13.44471     -12.12282      -3.6347733    -0.88035524]\n",
      " [  -4.485645     -8.859351     -7.415781     -2.751775     -0.9473416\n",
      "    -0.92675334   -2.6860862     1.2148435     8.40486       6.176793  ]\n",
      " [ -11.215554    -30.257336    -36.328255    -28.979748    -18.66191\n",
      "   -13.073076    -11.20605     -10.066433     -0.35809547    6.5718055 ]\n",
      " [  -9.80196      -7.5694876   -10.092711    -10.673542     -9.716137\n",
      "    -9.359627    -11.735107    -21.278118    -14.871116     -2.44669   ]\n",
      " [   5.5019083    -6.805078    -10.635617    -12.30052     -12.995281\n",
      "   -12.916488    -13.10021     -11.492619     -6.8954062    -5.2659607 ]\n",
      " [   9.028929      5.619988      7.1044736     8.174194     10.10865\n",
      "     9.862011     11.450119      9.328226      5.8070135    -1.8140237 ]\n",
      " [   0.75368744   20.640318     22.453506     19.0405        7.842724\n",
      "     3.692804      7.473935      7.5740213     1.7157669    -3.2051663 ]\n",
      " [ -12.643644    -18.89718     -17.196636    -17.005       -19.208546\n",
      "   -18.203127    -18.697468    -22.201405    -15.7650385    -8.03163   ]]\n"
     ]
    },
    {
     "data": {
      "image/png": "[encoded data removed]",
      "text/plain": [
       "<Figure size 400x400 with 2 Axes>"
      ]
     },
     "metadata": {},
     "output_type": "display_data"
    },
    {
     "name": "stdout",
     "output_type": "stream",
     "text": [
      "MFCC features for C:\\IIT-G Internship\\ASCII Waves Recording\\Used\\234101011_e_10-4.wav:\n",
      "[[-181.66394    -130.52516    -135.31253    -155.55383    -179.64703\n",
      "  -215.27823    -250.7267     -290.00143    -323.54022    -354.83057   ]\n",
      " [ 121.084656    109.21268      98.38544     107.57034     119.22588\n",
      "   121.07956     129.7507      131.07277     130.14883     130.9653    ]\n",
      " [ -86.94835     -91.757645    -88.11727     -77.68785     -74.905045\n",
      "   -66.36754     -53.01963     -40.72782     -27.756775    -12.872986  ]\n",
      " [  54.10563      46.83529      34.447002     31.470982     31.406414\n",
      "    20.138264     10.706554     11.020617     17.392914     17.058363  ]\n",
      " [ -16.464523    -19.666431    -21.568855    -18.957024    -16.043291\n",
      "   -17.317417    -18.976555    -18.835724     -6.4380627    -0.41792202]\n",
      " [ -31.748924    -30.66806     -33.865395    -38.07168     -39.295765\n",
      "   -42.02412     -47.828484    -49.105385    -39.4506      -31.790142  ]\n",
      " [ -11.257023    -14.310413    -16.88364     -18.076218    -19.845913\n",
      "   -23.40499     -24.25985     -22.60356     -20.33097     -16.90108   ]\n",
      " [ -18.19958     -13.214086     -7.525191     -4.611625     -5.9021416\n",
      "    -7.160363     -8.890835     -7.9082985    -4.662279      2.8612022 ]\n",
      " [  20.02372      17.059067     12.948431     11.424824     10.4334955\n",
      "     4.9399076     5.6345243     3.4401748     1.1876383     6.9955883 ]\n",
      " [  -4.476014     -7.4480414   -12.416617    -15.401159    -16.186893\n",
      "   -16.185116    -12.78858      -8.78071      -6.1768656    -2.1935005 ]\n",
      " [ -16.079887    -14.381432    -14.696789    -16.257153    -14.613634\n",
      "   -14.691807    -15.298426    -17.293304    -16.088732    -11.662342  ]\n",
      " [  12.081397      5.9020243    -3.4584785    -6.3440585    -5.4189157\n",
      "    -7.8524446    -7.3111124    -9.153239     -5.9080706    -3.9139862 ]\n",
      " [  11.030154     11.926878      9.987385      7.435226      1.8032324\n",
      "    -4.143328    -10.255065    -13.460906    -14.683739     -7.841857  ]]\n"
     ]
    },
    {
     "data": {
      "image/png": "[encoded data removed]",
      "text/plain": [
       "<Figure size 400x400 with 2 Axes>"
      ]
     },
     "metadata": {},
     "output_type": "display_data"
    },
    {
     "name": "stdout",
     "output_type": "stream",
     "text": [
      "Euclidean distance between column 1 of the first matrix and column 1 of the second matrix: 129.80125427246094\n",
      "Euclidean distance between column 2 of the first matrix and column 2 of the second matrix: 100.0822982788086\n",
      "Euclidean distance between column 3 of the first matrix and column 3 of the second matrix: 87.6335220336914\n",
      "Euclidean distance between column 4 of the first matrix and column 4 of the second matrix: 80.73468780517578\n",
      "Euclidean distance between column 5 of the first matrix and column 5 of the second matrix: 79.98247528076172\n",
      "Euclidean distance between column 6 of the first matrix and column 6 of the second matrix: 79.27765655517578\n",
      "Euclidean distance between column 7 of the first matrix and column 7 of the second matrix: 71.57699584960938\n",
      "Euclidean distance between column 8 of the first matrix and column 8 of the second matrix: 73.32635498046875\n",
      "Euclidean distance between column 9 of the first matrix and column 9 of the second matrix: 72.99332427978516\n",
      "Euclidean distance between column 10 of the first matrix and column 10 of the second matrix: 55.283775329589844\n"
     ]
    }
   ],
   "source": [
    "def extract_mfcc(audio_file,sr=None, n_mfcc=13):\n",
    "    \"\"\"\n",
    "    Extract MFCC features from an audio file.\n",
    "    \n",
    "    Parameters:\n",
    "    - audio_file: path to the audio file\n",
    "    - n_mfcc: number of MFCC features to extract\n",
    "    \n",
    "    Returns:\n",
    "    - mfcc: numpy array containing the MFCC features\n",
    "    \"\"\"\n",
    "    try:\n",
    "        y, sr = librosa.load(audio_file, sr=sr)  # Load audio file\n",
    "        mfcc = librosa.feature.mfcc(y=y, sr=sr, n_mfcc=n_mfcc)  # Extract MFCC features\n",
    "        return mfcc\n",
    "    except FileNotFoundError:\n",
    "        print(f\"Audio file not found: {audio_file}\")\n",
    "        return None\n",
    "\n",
    "def plot_mfcc(mfcc):\n",
    "    \"\"\"\n",
    "    Plot the MFCC features.\n",
    "    \n",
    "    Parameters:\n",
    "    - mfcc: numpy array containing the MFCC features\n",
    "    \"\"\"\n",
    "    plt.figure(figsize=(4, 4))\n",
    "    librosa.display.specshow(mfcc, x_axis='time')\n",
    "    plt.colorbar()\n",
    "    plt.title('MFCC')\n",
    "    plt.tight_layout()\n",
    "    plt.show()\n",
    "\n",
    "def calculate_euclidean_distance(column1, column2):\n",
    "    \"\"\"\n",
    "    Calculate the Euclidean distance between two columns.\n",
    "    \n",
    "    Parameters:\n",
    "    - column1: first numpy array column\n",
    "    - column2: second numpy array column\n",
    "    \n",
    "    Returns:\n",
    "    - distance: Euclidean distance between the columns\n",
    "    \"\"\"\n",
    "    return np.linalg.norm(column1 - column2)\n",
    "\n",
    "# Example usage:\n",
    "audio_files = ['C:\\\\IIT-G Internship\\\\ASCII Waves Recording\\\\Used\\\\234101011_a_11(2)-2.wav', 'C:\\\\IIT-G Internship\\\\ASCII Waves Recording\\\\Used\\\\234101011_e_10-4.wav']  # Replace with actual paths to your audio files\n",
    "\n",
    "mfcc_matrices = []\n",
    "\n",
    "for audio_file in audio_files:\n",
    "    mfcc = extract_mfcc(audio_file)\n",
    "    if mfcc is not None:\n",
    "        print(f\"MFCC features for {audio_file}:\")\n",
    "        print(mfcc)  # This will print the MFCC matrix\n",
    "        plot_mfcc(mfcc)\n",
    "        mfcc_matrices.append(mfcc)  # Append the first column of the MFCC matrix\n",
    "\n",
    "if len(mfcc_matrices) == 2:\n",
    "    for i in range(min(mfcc_matrices[0].shape[1], mfcc_matrices[1].shape[1])):\n",
    "        column1 = mfcc_matrices[0][1:, i]  # Exclude the first element\n",
    "        column2 = mfcc_matrices[1][1:, i]  # Exclude the first element\n",
    "        distance = calculate_euclidean_distance(column1, column2)\n",
    "        print(f\"Euclidean distance between column {i+1} of the first matrix and column {i+1} of the second matrix: {distance}\")\n",
    "else:\n",
    "    print(\"Failed to extract MFCC features.\")"
   ]
  }
 ],
 "metadata": {
  "kernelspec": {
   "display_name": "Python 3 (ipykernel)",
   "language": "python",
   "name": "python3"
  },
  "language_info": {
   "codemirror_mode": {
    "name": "ipython",
    "version": 3
   },
   "file_extension": ".py",
   "mimetype": "text/x-python",
   "name": "python",
   "nbconvert_exporter": "python",
   "pygments_lexer": "ipython3",
   "version": "3.11.3"
  }
 },
 "nbformat": 4,
 "nbformat_minor": 5
}
