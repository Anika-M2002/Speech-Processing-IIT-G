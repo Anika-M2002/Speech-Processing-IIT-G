{
 "cells": [
  {
   "cell_type": "code",
   "execution_count": 1,
   "id": "fc91e565",
   "metadata": {},
   "outputs": [],
   "source": [
    "import librosa\n",
    "import librosa.display\n",
    "import matplotlib.pyplot as plt\n",
    "import numpy as np"
   ]
  },
  {
   "cell_type": "code",
   "execution_count": 2,
   "id": "e299a021",
   "metadata": {
    "scrolled": true
   },
   "outputs": [
    {
     "name": "stdout",
     "output_type": "stream",
     "text": [
      "MFCC features for C:\\IIT-G Internship\\ASCII Waves Recording\\Used\\234101011_a_11(2)-2.wav:\n",
      "[[-351.00757    -267.04715    -213.45972    -211.7793     -234.43544\n",
      "  -256.72998    -277.63052    -308.67694    -319.8311     -312.05426   ]\n",
      " [ 146.03682     154.03574     145.97983     145.63773     147.69489\n",
      "   150.95065     150.5588      151.30782     150.57013     126.746704  ]\n",
      " [   6.092407    -35.51602     -59.464455    -57.227127    -42.361214\n",
      "   -29.684784    -19.752018    -12.907835      3.8814592    16.698416  ]\n",
      " [ -14.169696      3.638988      8.18647       4.651394     -4.6651945\n",
      "   -12.31867     -11.24423     -12.123945    -12.138529     -2.1274855 ]\n",
      " [ -18.280289    -33.66287     -36.25567     -33.876747    -33.135895\n",
      "   -33.551727    -30.873142    -24.729717    -17.103405    -10.319367  ]\n",
      " [  -9.357389    -13.701714    -15.181549    -14.764006    -11.554573\n",
      "    -9.762973    -13.44471     -12.12282      -3.6347733    -0.88035524]\n",
      " [  -4.485645     -8.859351     -7.415781     -2.751775     -0.9473416\n",
      "    -0.92675334   -2.6860862     1.2148435     8.40486       6.176793  ]\n",
      " [ -11.215554    -30.257336    -36.328255    -28.979748    -18.66191\n",
      "   -13.073076    -11.20605     -10.066433     -0.35809547    6.5718055 ]\n",
      " [  -9.80196      -7.5694876   -10.092711    -10.673542     -9.716137\n",
      "    -9.359627    -11.735107    -21.278118    -14.871116     -2.44669   ]\n",
      " [   5.5019083    -6.805078    -10.635617    -12.30052     -12.995281\n",
      "   -12.916488    -13.10021     -11.492619     -6.8954062    -5.2659607 ]\n",
      " [   9.028929      5.619988      7.1044736     8.174194     10.10865\n",
      "     9.862011     11.450119      9.328226      5.8070135    -1.8140237 ]\n",
      " [   0.75368744   20.640318     22.453506     19.0405        7.842724\n",
      "     3.692804      7.473935      7.5740213     1.7157669    -3.2051663 ]\n",
      " [ -12.643644    -18.89718     -17.196636    -17.005       -19.208546\n",
      "   -18.203127    -18.697468    -22.201405    -15.7650385    -8.03163   ]]\n"
     ]
    },
    {
     "data": {
      "image/png": "[encoded data removed]",
      "text/plain": [
       "<Figure size 400x400 with 2 Axes>"
      ]
     },
     "metadata": {},
     "output_type": "display_data"
    },
    {
     "name": "stdout",
     "output_type": "stream",
     "text": [
      "MFCC features for C:\\IIT-G Internship\\ASCII Waves Recording\\Used\\234101011_i_10-3.wav:\n",
      "[[-3.08098419e+02 -2.42914963e+02 -2.29027481e+02 -2.34396484e+02\n",
      "  -2.42652573e+02 -2.56968353e+02 -2.73420624e+02 -3.02090820e+02\n",
      "  -3.34272858e+02 -3.60551910e+02]\n",
      " [ 8.85430908e+01  7.45720215e+01  6.52996674e+01  6.29460678e+01\n",
      "   6.98274841e+01  7.92403412e+01  8.22811279e+01  9.15700989e+01\n",
      "   1.00603439e+02  1.00109520e+02]\n",
      " [ 9.81128883e+00  9.96046901e-01  5.26072383e-01  4.97005367e+00\n",
      "   2.35574436e+00 -2.07060218e+00 -4.56171846e+00 -5.66147327e+00\n",
      "   2.15101004e-01  7.37822628e+00]\n",
      " [ 6.64969177e+01  6.40833664e+01  6.69744415e+01  7.25142975e+01\n",
      "   6.92227631e+01  6.56073380e+01  6.11063080e+01  5.53971786e+01\n",
      "   4.77620773e+01  3.46474533e+01]\n",
      " [-1.07678356e+01 -1.13269234e+01 -1.06191149e+01 -8.95854568e+00\n",
      "  -8.22668839e+00 -4.82553196e+00 -1.04702635e+01 -9.77834892e+00\n",
      "  -5.83545971e+00  1.39636898e+00]\n",
      " [-1.22446156e+01 -1.58539810e+01 -1.64261341e+01 -1.65014381e+01\n",
      "  -1.53967781e+01 -1.46843357e+01 -2.25404358e+01 -2.00193863e+01\n",
      "  -6.71064568e+00 -1.78175247e+00]\n",
      " [ 1.38454437e+01  1.53841429e+01  1.43084755e+01  2.21953735e+01\n",
      "   2.63100815e+01  2.49391403e+01  1.88168812e+01  8.28676891e+00\n",
      "   7.03014469e+00  5.43453360e+00]\n",
      " [-4.04679108e+01 -4.45331421e+01 -4.55216408e+01 -3.91666794e+01\n",
      "  -3.64719009e+01 -3.67824974e+01 -3.63787384e+01 -3.69905205e+01\n",
      "  -3.20944176e+01 -1.88585720e+01]\n",
      " [ 8.93927288e+00  4.68952322e+00 -6.78360462e-02  3.47247672e+00\n",
      "   5.13178539e+00  1.78841376e+00 -4.52753162e+00 -9.42070770e+00\n",
      "  -8.30786705e+00 -7.58317804e+00]\n",
      " [-8.39308548e+00 -1.27835093e+01 -1.28873615e+01 -1.00768566e+01\n",
      "  -8.58474541e+00 -8.64002609e+00 -1.14795141e+01 -1.18646088e+01\n",
      "  -6.33909225e+00 -4.30468750e+00]\n",
      " [-3.88346481e+01 -3.93081894e+01 -3.70739594e+01 -4.09201202e+01\n",
      "  -3.97349129e+01 -3.75865936e+01 -3.88943939e+01 -3.74935341e+01\n",
      "  -2.91999779e+01 -1.70590286e+01]\n",
      " [ 1.16118183e+01  1.68092289e+01  2.11088142e+01  1.59026585e+01\n",
      "   1.51996002e+01  1.28302050e+01  8.65713882e+00 -9.06635463e-01\n",
      "  -2.87313533e+00 -2.59533739e+00]\n",
      " [-3.85233841e+01 -3.83022842e+01 -3.61420898e+01 -3.93999481e+01\n",
      "  -3.85159111e+01 -3.86501160e+01 -3.92577667e+01 -3.95455933e+01\n",
      "  -3.30766640e+01 -1.82327347e+01]]\n"
     ]
    },
    {
     "data": {
      "image/png": "[encoded data removed]",
      "text/plain": [
       "<Figure size 400x400 with 2 Axes>"
      ]
     },
     "metadata": {},
     "output_type": "display_data"
    },
    {
     "name": "stdout",
     "output_type": "stream",
     "text": [
      "Euclidean distance between column 1 of the first matrix and column 1 of the second matrix: 121.2676773071289\n",
      "Euclidean distance between column 2 of the first matrix and column 2 of the second matrix: 123.25587463378906\n",
      "Euclidean distance between column 3 of the first matrix and column 3 of the second matrix: 131.1390838623047\n",
      "Euclidean distance between column 4 of the first matrix and column 4 of the second matrix: 140.6717071533203\n",
      "Euclidean distance between column 5 of the first matrix and column 5 of the second matrix: 135.53211975097656\n",
      "Euclidean distance between column 6 of the first matrix and column 6 of the second matrix: 130.2055206298828\n",
      "Euclidean distance between column 7 of the first matrix and column 7 of the second matrix: 121.38990783691406\n",
      "Euclidean distance between column 8 of the first matrix and column 8 of the second matrix: 109.30133056640625\n",
      "Euclidean distance between column 9 of the first matrix and column 9 of the second matrix: 93.98580932617188\n",
      "Euclidean distance between column 10 of the first matrix and column 10 of the second matrix: 57.4306526184082\n"
     ]
    }
   ],
   "source": [
    "def extract_mfcc(audio_file,sr=None, n_mfcc=13):\n",
    "    \"\"\"\n",
    "    Extract MFCC features from an audio file.\n",
    "    \n",
    "    Parameters:\n",
    "    - audio_file: path to the audio file\n",
    "    - n_mfcc: number of MFCC features to extract\n",
    "    \n",
    "    Returns:\n",
    "    - mfcc: numpy array containing the MFCC features\n",
    "    \"\"\"\n",
    "    try:\n",
    "        y, sr = librosa.load(audio_file, sr=sr)  # Load audio file\n",
    "        mfcc = librosa.feature.mfcc(y=y, sr=sr, n_mfcc=n_mfcc)  # Extract MFCC features\n",
    "        return mfcc\n",
    "    except FileNotFoundError:\n",
    "        print(f\"Audio file not found: {audio_file}\")\n",
    "        return None\n",
    "\n",
    "def plot_mfcc(mfcc):\n",
    "    \"\"\"\n",
    "    Plot the MFCC features.\n",
    "    \n",
    "    Parameters:\n",
    "    - mfcc: numpy array containing the MFCC features\n",
    "    \"\"\"\n",
    "    plt.figure(figsize=(4, 4))\n",
    "    librosa.display.specshow(mfcc, x_axis='time')\n",
    "    plt.colorbar()\n",
    "    plt.title('MFCC')\n",
    "    plt.tight_layout()\n",
    "    plt.show()\n",
    "\n",
    "def calculate_euclidean_distance(column1, column2):\n",
    "    \"\"\"\n",
    "    Calculate the Euclidean distance between two columns.\n",
    "    \n",
    "    Parameters:\n",
    "    - column1: first numpy array column\n",
    "    - column2: second numpy array column\n",
    "    \n",
    "    Returns:\n",
    "    - distance: Euclidean distance between the columns\n",
    "    \"\"\"\n",
    "    return np.linalg.norm(column1 - column2)\n",
    "\n",
    "# Example usage:\n",
    "audio_files = ['C:\\\\IIT-G Internship\\\\ASCII Waves Recording\\\\Used\\\\234101011_a_11(2)-2.wav', 'C:\\\\IIT-G Internship\\\\ASCII Waves Recording\\\\Used\\\\234101011_i_10-3.wav']  # Replace with actual paths to your audio files\n",
    "\n",
    "mfcc_matrices = []\n",
    "\n",
    "for audio_file in audio_files:\n",
    "    mfcc = extract_mfcc(audio_file)\n",
    "    if mfcc is not None:\n",
    "        print(f\"MFCC features for {audio_file}:\")\n",
    "        print(mfcc)  # This will print the MFCC matrix\n",
    "        plot_mfcc(mfcc)\n",
    "        mfcc_matrices.append(mfcc)  # Append the first column of the MFCC matrix\n",
    "\n",
    "if len(mfcc_matrices) == 2:\n",
    "    for i in range(min(mfcc_matrices[0].shape[1], mfcc_matrices[1].shape[1])):\n",
    "        column1 = mfcc_matrices[0][1:, i]  # Exclude the first element\n",
    "        column2 = mfcc_matrices[1][1:, i]  # Exclude the first element\n",
    "        distance = calculate_euclidean_distance(column1, column2)\n",
    "        print(f\"Euclidean distance between column {i+1} of the first matrix and column {i+1} of the second matrix: {distance}\")\n",
    "else:\n",
    "    print(\"Failed to extract MFCC features.\")"
   ]
  }
 ],
 "metadata": {
  "kernelspec": {
   "display_name": "Python 3 (ipykernel)",
   "language": "python",
   "name": "python3"
  },
  "language_info": {
   "codemirror_mode": {
    "name": "ipython",
    "version": 3
   },
   "file_extension": ".py",
   "mimetype": "text/x-python",
   "name": "python",
   "nbconvert_exporter": "python",
   "pygments_lexer": "ipython3",
   "version": "3.11.3"
  }
 },
 "nbformat": 4,
 "nbformat_minor": 5
}
