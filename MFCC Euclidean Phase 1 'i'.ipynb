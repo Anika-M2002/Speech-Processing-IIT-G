{
 "cells": [
  {
   "cell_type": "code",
   "execution_count": 1,
   "id": "fc91e565",
   "metadata": {},
   "outputs": [],
   "source": [
    "import librosa\n",
    "import librosa.display\n",
    "import matplotlib.pyplot as plt\n",
    "import numpy as np"
   ]
  },
  {
   "cell_type": "code",
   "execution_count": 2,
   "id": "e299a021",
   "metadata": {
    "scrolled": true
   },
   "outputs": [
    {
     "name": "stdout",
     "output_type": "stream",
     "text": [
      "MFCC features for C:\\IIT-G Internship\\ASCII Waves Recording\\234101011_i_10-3.wav:\n",
      "[[-3.08098419e+02 -2.42914963e+02 -2.29027481e+02 -2.34396484e+02\n",
      "  -2.42652573e+02 -2.56968353e+02 -2.73420624e+02 -3.02090820e+02\n",
      "  -3.34272858e+02 -3.60551910e+02]\n",
      " [ 8.85430908e+01  7.45720215e+01  6.52996674e+01  6.29460678e+01\n",
      "   6.98274841e+01  7.92403412e+01  8.22811279e+01  9.15700989e+01\n",
      "   1.00603439e+02  1.00109520e+02]\n",
      " [ 9.81128883e+00  9.96046901e-01  5.26072383e-01  4.97005367e+00\n",
      "   2.35574436e+00 -2.07060218e+00 -4.56171846e+00 -5.66147327e+00\n",
      "   2.15101004e-01  7.37822628e+00]\n",
      " [ 6.64969177e+01  6.40833664e+01  6.69744415e+01  7.25142975e+01\n",
      "   6.92227631e+01  6.56073380e+01  6.11063080e+01  5.53971786e+01\n",
      "   4.77620773e+01  3.46474533e+01]\n",
      " [-1.07678356e+01 -1.13269234e+01 -1.06191149e+01 -8.95854568e+00\n",
      "  -8.22668839e+00 -4.82553196e+00 -1.04702635e+01 -9.77834892e+00\n",
      "  -5.83545971e+00  1.39636898e+00]\n",
      " [-1.22446156e+01 -1.58539810e+01 -1.64261341e+01 -1.65014381e+01\n",
      "  -1.53967781e+01 -1.46843357e+01 -2.25404358e+01 -2.00193863e+01\n",
      "  -6.71064568e+00 -1.78175247e+00]\n",
      " [ 1.38454437e+01  1.53841429e+01  1.43084755e+01  2.21953735e+01\n",
      "   2.63100815e+01  2.49391403e+01  1.88168812e+01  8.28676891e+00\n",
      "   7.03014469e+00  5.43453360e+00]\n",
      " [-4.04679108e+01 -4.45331421e+01 -4.55216408e+01 -3.91666794e+01\n",
      "  -3.64719009e+01 -3.67824974e+01 -3.63787384e+01 -3.69905205e+01\n",
      "  -3.20944176e+01 -1.88585720e+01]\n",
      " [ 8.93927288e+00  4.68952322e+00 -6.78360462e-02  3.47247672e+00\n",
      "   5.13178539e+00  1.78841376e+00 -4.52753162e+00 -9.42070770e+00\n",
      "  -8.30786705e+00 -7.58317804e+00]\n",
      " [-8.39308548e+00 -1.27835093e+01 -1.28873615e+01 -1.00768566e+01\n",
      "  -8.58474541e+00 -8.64002609e+00 -1.14795141e+01 -1.18646088e+01\n",
      "  -6.33909225e+00 -4.30468750e+00]\n",
      " [-3.88346481e+01 -3.93081894e+01 -3.70739594e+01 -4.09201202e+01\n",
      "  -3.97349129e+01 -3.75865936e+01 -3.88943939e+01 -3.74935341e+01\n",
      "  -2.91999779e+01 -1.70590286e+01]\n",
      " [ 1.16118183e+01  1.68092289e+01  2.11088142e+01  1.59026585e+01\n",
      "   1.51996002e+01  1.28302050e+01  8.65713882e+00 -9.06635463e-01\n",
      "  -2.87313533e+00 -2.59533739e+00]\n",
      " [-3.85233841e+01 -3.83022842e+01 -3.61420898e+01 -3.93999481e+01\n",
      "  -3.85159111e+01 -3.86501160e+01 -3.92577667e+01 -3.95455933e+01\n",
      "  -3.30766640e+01 -1.82327347e+01]]\n"
     ]
    },
    {
     "data": {
      "image/png": "[encoded data removed]",
      "text/plain": [
       "<Figure size 400x400 with 2 Axes>"
      ]
     },
     "metadata": {},
     "output_type": "display_data"
    },
    {
     "name": "stdout",
     "output_type": "stream",
     "text": [
      "Euclidean distance between first column and column 1 of the same matrix: 0.0\n",
      "Euclidean distance between first column and column 2 of the same matrix: 19.37990379333496\n",
      "Euclidean distance between first column and column 3 of the same matrix: 29.500030517578125\n",
      "Euclidean distance between first column and column 4 of the same matrix: 29.392385482788086\n",
      "Euclidean distance between first column and column 5 of the same matrix: 25.084548950195312\n",
      "Euclidean distance between first column and column 6 of the same matrix: 21.46348762512207\n",
      "Euclidean distance between first column and column 7 of the same matrix: 24.950693130493164\n",
      "Euclidean distance between first column and column 8 of the same matrix: 31.382896423339844\n",
      "Euclidean distance between first column and column 9 of the same matrix: 37.33684539794922\n",
      "Euclidean distance between first column and column 10 of the same matrix: 57.677330017089844\n",
      "Failed to extract MFCC features.\n"
     ]
    }
   ],
   "source": [
    "def extract_mfcc(audio_file,sr=None, n_mfcc=13):\n",
    "    \"\"\"\n",
    "    Extract MFCC features from an audio file.\n",
    "    \n",
    "    Parameters:\n",
    "    - audio_file: path to the audio file\n",
    "    - n_mfcc: number of MFCC features to extract\n",
    "    \n",
    "    Returns:\n",
    "    - mfcc: numpy array containing the MFCC features\n",
    "    \"\"\"\n",
    "    try:\n",
    "        y, sr = librosa.load(audio_file, sr=sr)  # Load audio file\n",
    "        mfcc = librosa.feature.mfcc(y=y, sr=sr, n_mfcc=n_mfcc)  # Extract MFCC features\n",
    "        return mfcc\n",
    "    except FileNotFoundError:\n",
    "        print(f\"Audio file not found: {audio_file}\")\n",
    "        return None\n",
    "\n",
    "def plot_mfcc(mfcc):\n",
    "    \"\"\"\n",
    "    Plot the MFCC features.\n",
    "    \n",
    "    Parameters:\n",
    "    - mfcc: numpy array containing the MFCC features\n",
    "    \"\"\"\n",
    "    plt.figure(figsize=(4, 4))\n",
    "    librosa.display.specshow(mfcc, x_axis='time')\n",
    "    plt.colorbar()\n",
    "    plt.title('MFCC')\n",
    "    plt.tight_layout()\n",
    "    plt.show()\n",
    "\n",
    "def calculate_euclidean_distance(column1, column2):\n",
    "    \"\"\"\n",
    "    Calculate the Euclidean distance between two columns.\n",
    "    \n",
    "    Parameters:\n",
    "    - column1: first numpy array column\n",
    "    - column2: second numpy array column\n",
    "    \n",
    "    Returns:\n",
    "    - distance: Euclidean distance between the columns\n",
    "    \"\"\"\n",
    "    return np.linalg.norm(column1 - column2)\n",
    "    \n",
    "# Example usage:\n",
    "audio_files = ['C:\\\\IIT-G Internship\\\\ASCII Waves Recording\\\\234101011_i_10-3.wav']  # Replace with actual paths to your audio files\n",
    "\n",
    "mfcc_matrices = []\n",
    "\n",
    "for audio_file in audio_files:\n",
    "    mfcc = extract_mfcc(audio_file)\n",
    "    if mfcc is not None:\n",
    "        print(f\"MFCC features for {audio_file}:\")\n",
    "        print(mfcc)  # This will print the MFCC matrix\n",
    "        plot_mfcc(mfcc)\n",
    "        mfcc_matrices.append(mfcc)  # Append the first column of the MFCC matrix\n",
    "\n",
    "for i in range(mfcc.shape[1]):\n",
    "        distance = calculate_euclidean_distance(mfcc[1:, 0], mfcc[1:, i])\n",
    "        print(f\"Euclidean distance between first column and column {i+1} of the same matrix: {distance}\")\n",
    "else:\n",
    "    print(\"Failed to extract MFCC features.\")"
   ]
  }
 ],
 "metadata": {
  "kernelspec": {
   "display_name": "Python 3 (ipykernel)",
   "language": "python",
   "name": "python3"
  },
  "language_info": {
   "codemirror_mode": {
    "name": "ipython",
    "version": 3
   },
   "file_extension": ".py",
   "mimetype": "text/x-python",
   "name": "python",
   "nbconvert_exporter": "python",
   "pygments_lexer": "ipython3",
   "version": "3.11.3"
  }
 },
 "nbformat": 4,
 "nbformat_minor": 5
}
