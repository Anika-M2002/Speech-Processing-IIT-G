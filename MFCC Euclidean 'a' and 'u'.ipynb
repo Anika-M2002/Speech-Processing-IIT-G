{
 "cells": [
  {
   "cell_type": "code",
   "execution_count": 1,
   "id": "fc91e565",
   "metadata": {},
   "outputs": [],
   "source": [
    "import librosa\n",
    "import librosa.display\n",
    "import matplotlib.pyplot as plt\n",
    "import numpy as np"
   ]
  },
  {
   "cell_type": "code",
   "execution_count": 2,
   "id": "e299a021",
   "metadata": {
    "scrolled": true
   },
   "outputs": [
    {
     "name": "stdout",
     "output_type": "stream",
     "text": [
      "MFCC features for C:\\IIT-G Internship\\ASCII Waves Recording\\Used\\234101011_a_11(2)-2.wav:\n",
      "[[-351.00757    -267.04715    -213.45972    -211.7793     -234.43544\n",
      "  -256.72998    -277.63052    -308.67694    -319.8311     -312.05426   ]\n",
      " [ 146.03682     154.03574     145.97983     145.63773     147.69489\n",
      "   150.95065     150.5588      151.30782     150.57013     126.746704  ]\n",
      " [   6.092407    -35.51602     -59.464455    -57.227127    -42.361214\n",
      "   -29.684784    -19.752018    -12.907835      3.8814592    16.698416  ]\n",
      " [ -14.169696      3.638988      8.18647       4.651394     -4.6651945\n",
      "   -12.31867     -11.24423     -12.123945    -12.138529     -2.1274855 ]\n",
      " [ -18.280289    -33.66287     -36.25567     -33.876747    -33.135895\n",
      "   -33.551727    -30.873142    -24.729717    -17.103405    -10.319367  ]\n",
      " [  -9.357389    -13.701714    -15.181549    -14.764006    -11.554573\n",
      "    -9.762973    -13.44471     -12.12282      -3.6347733    -0.88035524]\n",
      " [  -4.485645     -8.859351     -7.415781     -2.751775     -0.9473416\n",
      "    -0.92675334   -2.6860862     1.2148435     8.40486       6.176793  ]\n",
      " [ -11.215554    -30.257336    -36.328255    -28.979748    -18.66191\n",
      "   -13.073076    -11.20605     -10.066433     -0.35809547    6.5718055 ]\n",
      " [  -9.80196      -7.5694876   -10.092711    -10.673542     -9.716137\n",
      "    -9.359627    -11.735107    -21.278118    -14.871116     -2.44669   ]\n",
      " [   5.5019083    -6.805078    -10.635617    -12.30052     -12.995281\n",
      "   -12.916488    -13.10021     -11.492619     -6.8954062    -5.2659607 ]\n",
      " [   9.028929      5.619988      7.1044736     8.174194     10.10865\n",
      "     9.862011     11.450119      9.328226      5.8070135    -1.8140237 ]\n",
      " [   0.75368744   20.640318     22.453506     19.0405        7.842724\n",
      "     3.692804      7.473935      7.5740213     1.7157669    -3.2051663 ]\n",
      " [ -12.643644    -18.89718     -17.196636    -17.005       -19.208546\n",
      "   -18.203127    -18.697468    -22.201405    -15.7650385    -8.03163   ]]\n"
     ]
    },
    {
     "data": {
      "image/png": "[encoded data removed]",
      "text/plain": [
       "<Figure size 400x400 with 2 Axes>"
      ]
     },
     "metadata": {},
     "output_type": "display_data"
    },
    {
     "name": "stdout",
     "output_type": "stream",
     "text": [
      "MFCC features for C:\\IIT-G Internship\\ASCII Waves Recording\\Used\\234101011_u_10-4.wav:\n",
      "[[-3.7858109e+02 -3.1448361e+02 -2.9271432e+02 -2.9530002e+02\n",
      "  -3.0740341e+02 -3.0825293e+02 -3.1120959e+02 -3.2904172e+02\n",
      "  -3.4268735e+02 -2.8337692e+02]\n",
      " [ 1.6205362e+02  1.5484944e+02  1.4055774e+02  1.3688129e+02\n",
      "   1.3954395e+02  1.4494392e+02  1.5061316e+02  1.5410245e+02\n",
      "   1.5643163e+02  1.2333443e+02]\n",
      " [ 4.3544350e+01  4.8024513e+01  4.5224499e+01  4.0735672e+01\n",
      "   3.3009666e+01  3.1050348e+01  3.1853561e+01  2.9547695e+01\n",
      "   2.7112839e+01  3.0398342e+01]\n",
      " [ 1.6800835e+01  1.7683708e+01  1.2723030e+01  8.4760914e+00\n",
      "   1.1397938e+01  1.5590961e+01  1.2469809e+01  1.1900520e+01\n",
      "   1.1003634e+01  1.9682003e+01]\n",
      " [-7.2328682e+00 -1.4340352e+01 -1.5699909e+01 -1.6773586e+01\n",
      "  -1.3612335e+01 -9.4266748e+00 -7.9935198e+00 -6.3709717e+00\n",
      "  -3.7294080e+00  6.4038277e+00]\n",
      " [-8.1520090e+00 -1.0588312e+01 -5.2021055e+00 -5.7250929e+00\n",
      "  -8.8817825e+00 -1.0962483e+01 -1.1227865e+01 -1.5979319e+01\n",
      "  -1.4199347e+01 -4.7783607e-01]\n",
      " [-2.5435574e+00  4.4776380e-01 -2.7156448e-01 -1.8763576e+00\n",
      "   4.3479797e-01  7.7334237e-01  3.6876616e+00 -5.1784511e+00\n",
      "  -1.4015841e+01 -8.4973297e+00]\n",
      " [-1.8062908e+01 -1.9471325e+01 -2.1668053e+01 -2.1679798e+01\n",
      "  -1.8348808e+01 -1.4088489e+01 -1.1378168e+01 -1.0326197e+01\n",
      "  -1.3973052e+01 -1.0318947e+01]\n",
      " [-5.6269674e+00 -3.9618385e+00 -1.2796469e+00 -1.5720322e+00\n",
      "  -1.6694391e-01 -8.3226490e-01 -4.4264174e+00 -7.3065319e+00\n",
      "  -9.0141039e+00 -6.7043605e+00]\n",
      " [-1.1873879e+01 -1.0412034e+01 -9.4323149e+00 -1.0377415e+01\n",
      "  -4.0052471e+00 -4.9384089e+00 -6.8853436e+00 -6.2080803e+00\n",
      "  -8.5512781e+00 -6.0510044e+00]\n",
      " [-8.7014027e+00 -4.9236984e+00 -5.1230760e+00 -6.7690778e+00\n",
      "  -9.5824108e+00 -8.7650194e+00 -7.5714846e+00 -8.6608324e+00\n",
      "  -1.2188867e+01 -6.8884211e+00]\n",
      " [-1.0483044e+01 -1.1571942e+01 -1.3717555e+01 -1.2928986e+01\n",
      "  -1.8346426e+01 -1.7360872e+01 -1.7739218e+01 -1.8916870e+01\n",
      "  -2.0446266e+01 -9.4940453e+00]\n",
      " [-2.5841997e+01 -2.6477064e+01 -2.4861927e+01 -2.1910555e+01\n",
      "  -2.3953743e+01 -2.3919773e+01 -2.2858673e+01 -2.3875130e+01\n",
      "  -2.7495975e+01 -1.2772858e+01]]\n"
     ]
    },
    {
     "data": {
      "image/png": "[encoded data removed]",
      "text/plain": [
       "<Figure size 400x400 with 2 Axes>"
      ]
     },
     "metadata": {},
     "output_type": "display_data"
    },
    {
     "name": "stdout",
     "output_type": "stream",
     "text": [
      "Euclidean distance between column 1 of the first matrix and column 1 of the second matrix: 61.0466194152832\n",
      "Euclidean distance between column 2 of the first matrix and column 2 of the second matrix: 94.84318542480469\n",
      "Euclidean distance between column 3 of the first matrix and column 3 of the second matrix: 115.73062896728516\n",
      "Euclidean distance between column 4 of the first matrix and column 4 of the second matrix: 107.1085433959961\n",
      "Euclidean distance between column 5 of the first matrix and column 5 of the second matrix: 87.54248809814453\n",
      "Euclidean distance between column 6 of the first matrix and column 6 of the second matrix: 77.7845230102539\n",
      "Euclidean distance between column 7 of the first matrix and column 7 of the second matrix: 70.0101547241211\n",
      "Euclidean distance between column 8 of the first matrix and column 8 of the second matrix: 63.49504852294922\n",
      "Euclidean distance between column 9 of the first matrix and column 9 of the second matrix: 55.47802734375\n",
      "Euclidean distance between column 10 of the first matrix and column 10 of the second matrix: 39.52167510986328\n"
     ]
    }
   ],
   "source": [
    "def extract_mfcc(audio_file,sr=None, n_mfcc=13):\n",
    "    \"\"\"\n",
    "    Extract MFCC features from an audio file.\n",
    "    \n",
    "    Parameters:\n",
    "    - audio_file: path to the audio file\n",
    "    - n_mfcc: number of MFCC features to extract\n",
    "    \n",
    "    Returns:\n",
    "    - mfcc: numpy array containing the MFCC features\n",
    "    \"\"\"\n",
    "    try:\n",
    "        y, sr = librosa.load(audio_file, sr=sr)  # Load audio file\n",
    "        mfcc = librosa.feature.mfcc(y=y, sr=sr, n_mfcc=n_mfcc)  # Extract MFCC features\n",
    "        return mfcc\n",
    "    except FileNotFoundError:\n",
    "        print(f\"Audio file not found: {audio_file}\")\n",
    "        return None\n",
    "\n",
    "def plot_mfcc(mfcc):\n",
    "    \"\"\"\n",
    "    Plot the MFCC features.\n",
    "    \n",
    "    Parameters:\n",
    "    - mfcc: numpy array containing the MFCC features\n",
    "    \"\"\"\n",
    "    plt.figure(figsize=(4, 4))\n",
    "    librosa.display.specshow(mfcc, x_axis='time')\n",
    "    plt.colorbar()\n",
    "    plt.title('MFCC')\n",
    "    plt.tight_layout()\n",
    "    plt.show()\n",
    "\n",
    "def calculate_euclidean_distance(column1, column2):\n",
    "    \"\"\"\n",
    "    Calculate the Euclidean distance between two columns.\n",
    "    \n",
    "    Parameters:\n",
    "    - column1: first numpy array column\n",
    "    - column2: second numpy array column\n",
    "    \n",
    "    Returns:\n",
    "    - distance: Euclidean distance between the columns\n",
    "    \"\"\"\n",
    "    return np.linalg.norm(column1 - column2)\n",
    "\n",
    "# Example usage:\n",
    "audio_files = ['C:\\\\IIT-G Internship\\\\ASCII Waves Recording\\\\Used\\\\234101011_a_11(2)-2.wav', 'C:\\\\IIT-G Internship\\\\ASCII Waves Recording\\\\Used\\\\234101011_u_10-4.wav']  # Replace with actual paths to your audio files\n",
    "\n",
    "mfcc_matrices = []\n",
    "\n",
    "for audio_file in audio_files:\n",
    "    mfcc = extract_mfcc(audio_file)\n",
    "    if mfcc is not None:\n",
    "        print(f\"MFCC features for {audio_file}:\")\n",
    "        print(mfcc)  # This will print the MFCC matrix\n",
    "        plot_mfcc(mfcc)\n",
    "        mfcc_matrices.append(mfcc)  # Append the first column of the MFCC matrix\n",
    "\n",
    "if len(mfcc_matrices) == 2:\n",
    "    for i in range(min(mfcc_matrices[0].shape[1], mfcc_matrices[1].shape[1])):\n",
    "        column1 = mfcc_matrices[0][1:, i]  # Exclude the first element\n",
    "        column2 = mfcc_matrices[1][1:, i]  # Exclude the first element\n",
    "        distance = calculate_euclidean_distance(column1, column2)\n",
    "        print(f\"Euclidean distance between column {i+1} of the first matrix and column {i+1} of the second matrix: {distance}\")\n",
    "else:\n",
    "    print(\"Failed to extract MFCC features.\")"
   ]
  }
 ],
 "metadata": {
  "kernelspec": {
   "display_name": "Python 3 (ipykernel)",
   "language": "python",
   "name": "python3"
  },
  "language_info": {
   "codemirror_mode": {
    "name": "ipython",
    "version": 3
   },
   "file_extension": ".py",
   "mimetype": "text/x-python",
   "name": "python",
   "nbconvert_exporter": "python",
   "pygments_lexer": "ipython3",
   "version": "3.11.3"
  }
 },
 "nbformat": 4,
 "nbformat_minor": 5
}
